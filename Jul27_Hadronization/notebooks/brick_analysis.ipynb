{
 "cells": [
  {
   "cell_type": "markdown",
   "metadata": {},
   "source": [
    "# Hands-on: Hadronization - Brick Analysis\n",
    "\n",
    "In this hands-on session we want to analyze the output of X-SCAPE framework simulations with a brick instead of a full hydrodynamical simulation for runtime reasons. We shoot a 100 GeV parton through a medium of different length and study the effects of different hadronization routines."
   ]
  },
  {
   "cell_type": "code",
   "execution_count": null,
   "metadata": {},
   "outputs": [],
   "source": [
    "# prerequisites: plots and packages\n",
    "%matplotlib notebook\n",
    "import numpy as np\n",
    "import matplotlib.pyplot as plt\n",
    "import fastjet as fj\n",
    "import sparkx.Jetscape as spxJ\n",
    "import sparkx.Histogram as spxHist\n",
    "\n",
    "# put some settings for the output\n",
    "width = 0.05\n",
    "plotMarkerSize = 8\n",
    "labelfontsize = 15\n",
    "import matplotlib as mpl\n",
    "mpl.rcParams['figure.figsize'] = [6., 4.5]\n",
    "mpl.rcParams['lines.linewidth'] = 2\n",
    "mpl.rcParams['xtick.top'] = True\n",
    "mpl.rcParams['xtick.labelsize'] = 13\n",
    "mpl.rcParams['xtick.major.width'] = 1.0\n",
    "mpl.rcParams['xtick.minor.width'] = 0.8\n",
    "mpl.rcParams['xtick.minor.visible'] = True\n",
    "mpl.rcParams['xtick.direction'] = \"in\"\n",
    "mpl.rcParams['ytick.right'] = True\n",
    "mpl.rcParams['ytick.labelsize'] = 13\n",
    "mpl.rcParams['ytick.major.width'] = 1.0\n",
    "mpl.rcParams['ytick.minor.width'] = 0.8\n",
    "mpl.rcParams['ytick.minor.visible'] = True\n",
    "mpl.rcParams['ytick.direction'] = \"in\"\n",
    "mpl.rcParams['legend.fontsize'] = 13\n",
    "mpl.rcParams['legend.numpoints'] = 1\n",
    "mpl.rcParams['font.size'] = 13\n",
    "mpl.rcParams['savefig.format'] = \"pdf\""
   ]
  },
  {
   "cell_type": "code",
   "execution_count": null,
   "metadata": {},
   "outputs": [],
   "source": [
    "# load all the data and perform the cuts we will use throughout the brick analysis\n",
    "PATH_HADRONIZATION_DATA_HYBRID_2FM = '../../../X-SCAPE/build/hadronization_results/hadrons_brick_hybrid_2fm_final_state_hadrons.dat'\n",
    "PATH_HADRONIZATION_DATA_HYBRID_4FM = '../../../X-SCAPE/build/hadronization_results/hadrons_brick_hybrid_4fm_final_state_hadrons.dat'\n",
    "PATH_HADRONIZATION_DATA_COLORLESS_2FM = '../../../X-SCAPE/build/hadronization_results/hadrons_brick_colorless_2fm_final_state_hadrons.dat'\n",
    "PATH_HADRONIZATION_DATA_HYBRID_BASELINE = '../../../X-SCAPE/build/hadronization_results/hadrons_vacuum_hybrid_baseline_final_state_hadrons.dat'\n",
    "PATH_HADRONIZATION_DATA_COLORLESS_BASELINE = '../../../X-SCAPE/build/hadronization_results/hadrons_vacuum_colorless_baseline_final_state_hadrons.dat'\n",
    "\n",
    "pseudorapidity_range = (-2.6,2.6)\n",
    "deta = np.abs(pseudorapidity_range[1]-pseudorapidity_range[0])\n",
    "pt_cut = (0.2,None)\n",
    "charged_hadron_pt = np.array([0.2, 0.5, 1.0, 1.5, 2.0, 2.5, 3.0, 4.0, 5.5, 7.0, 9.0, 12.0, 15.0, 18.0, 21.0, 25.0, 29.0])\n",
    "N_events = 1000"
   ]
  },
  {
   "cell_type": "markdown",
   "metadata": {},
   "source": [
    "## Transverse Momentum Spectra\n",
    "\n"
   ]
  },
  {
   "cell_type": "code",
   "execution_count": null,
   "metadata": {},
   "outputs": [],
   "source": [
    "def create_spectrum(hadrons, pt_bins, N_ev, deta):\n",
    "    hist = spxHist.Histogram(pt_bins)\n",
    "    for event in range(len(hadrons)):\n",
    "        for hadron in range(len(hadrons[event])):\n",
    "            hist.add_value(hadrons[event][hadron].pt_abs())\n",
    "\n",
    "    hist_bin_widths = hist.bin_width()\n",
    "    hist_bin_centers = hist.bin_centers()\n",
    "    err_hist = hist.statistical_error() / (N_ev * 2. * np.pi * hist_bin_centers * hist_bin_widths * deta)\n",
    "    hist.scale_histogram(1./(N_ev * 2. * np.pi * hist_bin_centers * hist_bin_widths * deta))\n",
    "    data_hist = hist.histogram()\n",
    "    return hist_bin_centers, hist_bin_widths, data_hist, err_hist\n",
    "\n",
    "def compute_error_of_subtracted_spectrum(e1, e2):\n",
    "    squared_e1 = e1 ** 2\n",
    "    squared_e2 = e2 ** 2\n",
    "    squared_e_sum = squared_e1 + squared_e2\n",
    "    e = np.sqrt(squared_e_sum)\n",
    "    return e\n",
    "\n",
    "def ratio_error(v1,e1,v2,e2):\n",
    "  #v1, e1: numerator value and error\n",
    "  #v2, e2: denominator value and error  \n",
    "  error1 = e1/v2\n",
    "  error2 = (e2/v2)*(v1/v2)\n",
    "  error = np.sqrt(error1*error1+error2*error2)\n",
    "  return error"
   ]
  },
  {
   "cell_type": "code",
   "execution_count": null,
   "metadata": {},
   "outputs": [],
   "source": [
    "# compute spectra for the hybrid hadronization 2 fm brick\n",
    "simulation1 = spxJ.Jetscape(PATH_HADRONIZATION_DATA_HYBRID_2FM)\n",
    "data_hybrid_2fm = simulation1.remove_particle_species(22).charged_particles().pt_cut(pt_cut).pseudorapidity_cut(pseudorapidity_range).particle_status([11,12,21,22]).particle_objects_list()\n",
    "\n",
    "simulation1_reco = spxJ.Jetscape(PATH_HADRONIZATION_DATA_HYBRID_2FM)\n",
    "data_hybrid_2fm_reco = simulation1_reco.remove_particle_species(22).charged_particles().pt_cut(pt_cut).pseudorapidity_cut(pseudorapidity_range).particle_status([11,12]).particle_objects_list()\n",
    "\n",
    "simulation1_frag = spxJ.Jetscape(PATH_HADRONIZATION_DATA_HYBRID_2FM)\n",
    "data_hybrid_2fm_frag = simulation1_frag.remove_particle_species(22).charged_particles().pt_cut(pt_cut).pseudorapidity_cut(pseudorapidity_range).particle_status([21,22]).particle_objects_list()\n",
    "\n",
    "simulation1_neg = spxJ.Jetscape(PATH_HADRONIZATION_DATA_HYBRID_2FM)\n",
    "data_hybrid_2fm_neg = simulation1_neg.remove_particle_species(22).charged_particles().pt_cut(pt_cut).pseudorapidity_cut(pseudorapidity_range).particle_status([-11,-12,-21,-22]).particle_objects_list()\n",
    "\n",
    "simulation1_neg_reco = spxJ.Jetscape(PATH_HADRONIZATION_DATA_HYBRID_2FM)\n",
    "data_hybrid_2fm_neg_reco = simulation1_neg_reco.remove_particle_species(22).charged_particles().pt_cut(pt_cut).pseudorapidity_cut(pseudorapidity_range).particle_status([-11,-12]).particle_objects_list()\n",
    "\n",
    "simulation1_neg_frag = spxJ.Jetscape(PATH_HADRONIZATION_DATA_HYBRID_2FM)\n",
    "data_hybrid_2fm_neg_frag = simulation1_neg_frag.remove_particle_species(22).charged_particles().pt_cut(pt_cut).pseudorapidity_cut(pseudorapidity_range).particle_status([-21,-22]).particle_objects_list()\n",
    "\n",
    "pt_hybrid_2fm, dpt_hybrid_2fm, spec_hybrid_2fm, spec_err_hybrid_2fm = create_spectrum(data_hybrid_2fm,charged_hadron_pt,N_events,deta)\n",
    "pt_hybrid_2fm_reco, dpt_hybrid_2fm_reco, spec_hybrid_2fm_reco, spec_err_hybrid_2fm_reco = create_spectrum(data_hybrid_2fm_reco,charged_hadron_pt,N_events,deta)\n",
    "pt_hybrid_2fm_frag, dpt_hybrid_2fm_frag, spec_hybrid_2fm_frag, spec_err_hybrid_2fm_frag = create_spectrum(data_hybrid_2fm_frag,charged_hadron_pt,N_events,deta)\n",
    "\n",
    "pt_hybrid_2fm_neg, dpt_hybrid_2fm_neg, spec_hybrid_2fm_neg, spec_err_hybrid_2fm_neg = create_spectrum(data_hybrid_2fm_neg,charged_hadron_pt,N_events,deta)\n",
    "pt_hybrid_2fm_neg_reco, dpt_hybrid_2fm_neg_reco, spec_hybrid_2fm_neg_reco, spec_err_hybrid_2fm_neg_reco = create_spectrum(data_hybrid_2fm_neg_reco,charged_hadron_pt,N_events,deta)\n",
    "pt_hybrid_2fm_neg_frag, dpt_hybrid_2fm_neg_frag, spec_hybrid_2fm_neg_frag, spec_err_hybrid_2fm_neg_frag = create_spectrum(data_hybrid_2fm_neg_frag,charged_hadron_pt,N_events,deta)\n",
    "\n",
    "#subtract the spectrum of negative hadrons from the real ones\n",
    "spec_final_hybrid_2fm = spec_hybrid_2fm - spec_hybrid_2fm_neg\n",
    "spec_final_hybrid_2fm_err = compute_error_of_subtracted_spectrum(spec_err_hybrid_2fm,spec_err_hybrid_2fm_neg)\n",
    "\n",
    "spec_final_hybrid_2fm_reco = spec_hybrid_2fm_reco - spec_hybrid_2fm_neg_reco\n",
    "spec_final_hybrid_2fm_err_reco = compute_error_of_subtracted_spectrum(spec_err_hybrid_2fm_reco,spec_err_hybrid_2fm_neg_reco)\n",
    "\n",
    "spec_final_hybrid_2fm_frag = spec_hybrid_2fm_frag - spec_hybrid_2fm_neg_frag\n",
    "spec_final_hybrid_2fm_err_frag = compute_error_of_subtracted_spectrum(spec_err_hybrid_2fm_frag,spec_err_hybrid_2fm_neg_frag)"
   ]
  },
  {
   "cell_type": "code",
   "execution_count": null,
   "metadata": {},
   "outputs": [],
   "source": [
    "# compute spectra for the hybrid hadronization 4 fm brick\n",
    "simulation2 = spxJ.Jetscape(PATH_HADRONIZATION_DATA_HYBRID_4FM)\n",
    "data_hybrid_4fm = simulation2.remove_particle_species(22).charged_particles().pt_cut(pt_cut).pseudorapidity_cut(pseudorapidity_range).particle_status([11,12,21,22]).particle_objects_list()\n",
    "\n",
    "simulation2_reco = spxJ.Jetscape(PATH_HADRONIZATION_DATA_HYBRID_4FM)\n",
    "data_hybrid_4fm_reco = simulation2_reco.remove_particle_species(22).charged_particles().pt_cut(pt_cut).pseudorapidity_cut(pseudorapidity_range).particle_status([11,12]).particle_objects_list()\n",
    "\n",
    "simulation2_frag = spxJ.Jetscape(PATH_HADRONIZATION_DATA_HYBRID_4FM)\n",
    "data_hybrid_4fm_frag = simulation2_frag.remove_particle_species(22).charged_particles().pt_cut(pt_cut).pseudorapidity_cut(pseudorapidity_range).particle_status([21,22]).particle_objects_list()\n",
    "\n",
    "simulation2_neg = spxJ.Jetscape(PATH_HADRONIZATION_DATA_HYBRID_4FM)\n",
    "data_hybrid_4fm_neg = simulation2_neg.remove_particle_species(22).charged_particles().pt_cut(pt_cut).pseudorapidity_cut(pseudorapidity_range).particle_status([-11,-12,-21,-22]).particle_objects_list()\n",
    "\n",
    "simulation2_neg_reco = spxJ.Jetscape(PATH_HADRONIZATION_DATA_HYBRID_4FM)\n",
    "data_hybrid_4fm_neg_reco = simulation2_neg_reco.remove_particle_species(22).charged_particles().pt_cut(pt_cut).pseudorapidity_cut(pseudorapidity_range).particle_status([-11,-12]).particle_objects_list()\n",
    "\n",
    "simulation2_neg_frag = spxJ.Jetscape(PATH_HADRONIZATION_DATA_HYBRID_4FM)\n",
    "data_hybrid_4fm_neg_frag = simulation2_neg_frag.remove_particle_species(22).charged_particles().pt_cut(pt_cut).pseudorapidity_cut(pseudorapidity_range).particle_status([-21,-22]).particle_objects_list()\n",
    "\n",
    "pt_hybrid_4fm, dpt_hybrid_4fm, spec_hybrid_4fm, spec_err_hybrid_4fm = create_spectrum(data_hybrid_4fm,charged_hadron_pt,N_events,deta)\n",
    "pt_hybrid_4fm_reco, dpt_hybrid_4fm_reco, spec_hybrid_4fm_reco, spec_err_hybrid_4fm_reco = create_spectrum(data_hybrid_4fm_reco,charged_hadron_pt,N_events,deta)\n",
    "pt_hybrid_4fm_frag, dpt_hybrid_4fm_frag, spec_hybrid_4fm_frag, spec_err_hybrid_4fm_frag = create_spectrum(data_hybrid_4fm_frag,charged_hadron_pt,N_events,deta)\n",
    "\n",
    "pt_hybrid_4fm_neg, dpt_hybrid_4fm_neg, spec_hybrid_4fm_neg, spec_err_hybrid_4fm_neg = create_spectrum(data_hybrid_4fm_neg,charged_hadron_pt,N_events,deta)\n",
    "pt_hybrid_4fm_neg_reco, dpt_hybrid_4fm_neg_reco, spec_hybrid_4fm_neg_reco, spec_err_hybrid_4fm_neg_reco = create_spectrum(data_hybrid_4fm_neg_reco,charged_hadron_pt,N_events,deta)\n",
    "pt_hybrid_4fm_neg_frag, dpt_hybrid_4fm_neg_frag, spec_hybrid_4fm_neg_frag, spec_err_hybrid_4fm_neg_frag = create_spectrum(data_hybrid_4fm_neg_frag,charged_hadron_pt,N_events,deta)\n",
    "\n",
    "#subtract the spectrum of negative hadrons from the real ones\n",
    "spec_final_hybrid_4fm = spec_hybrid_4fm - spec_hybrid_4fm_neg\n",
    "spec_final_hybrid_4fm_err = compute_error_of_subtracted_spectrum(spec_err_hybrid_4fm,spec_err_hybrid_4fm_neg)\n",
    "\n",
    "spec_final_hybrid_4fm_reco = spec_hybrid_4fm_reco - spec_hybrid_4fm_neg_reco\n",
    "spec_final_hybrid_4fm_err_reco = compute_error_of_subtracted_spectrum(spec_err_hybrid_4fm_reco,spec_err_hybrid_4fm_neg_reco)\n",
    "\n",
    "spec_final_hybrid_4fm_frag = spec_hybrid_4fm_frag - spec_hybrid_4fm_neg_frag\n",
    "spec_final_hybrid_4fm_err_frag = compute_error_of_subtracted_spectrum(spec_err_hybrid_4fm_frag,spec_err_hybrid_4fm_neg_frag)"
   ]
  },
  {
   "cell_type": "code",
   "execution_count": null,
   "metadata": {},
   "outputs": [],
   "source": [
    "# compute spectrum for the colorless hadronization 2 fm brick\n",
    "simulation3 = spxJ.Jetscape(PATH_HADRONIZATION_DATA_COLORLESS_2FM)\n",
    "data_colorless_2fm = simulation3.remove_particle_species(22).charged_particles().pt_cut(pt_cut).pseudorapidity_cut(pseudorapidity_range).particle_objects_list()\n",
    "\n",
    "pt_colorless_2fm, dpt_colorless_2fm, spec_colorless_2fm, spec_err_colorless_2fm = create_spectrum(data_colorless_2fm,charged_hadron_pt,N_events,deta)"
   ]
  },
  {
   "cell_type": "markdown",
   "metadata": {},
   "source": [
    "Separate spectra for the individual simulations, where we differentiate hadrons from recombination and string fragmentation:"
   ]
  },
  {
   "cell_type": "code",
   "execution_count": null,
   "metadata": {},
   "outputs": [],
   "source": [
    "# plot the 2 fm brick hybrid hadronization results\n",
    "fig, ax1 = plt.subplots()\n",
    "\n",
    "ax1.errorbar(pt_hybrid_2fm_reco, spec_final_hybrid_2fm_reco, fmt='s', xerr=dpt_hybrid_2fm_reco/2., yerr=spec_final_hybrid_2fm_err_reco, color='b', label=r\"recombination\")\n",
    "ax1.errorbar(pt_hybrid_2fm_frag, spec_final_hybrid_2fm_frag, fmt='o', xerr=dpt_hybrid_2fm_frag/2., yerr=spec_final_hybrid_2fm_err_frag, color='k', label=r\"string frag.\")\n",
    "ax1.errorbar(pt_hybrid_2fm, spec_final_hybrid_2fm, fmt='x', xerr=dpt_hybrid_2fm/2., yerr=spec_final_hybrid_2fm_err, color='g', label=r\"all hadrons\")\n",
    "\n",
    "ax1.set_yscale('log')\n",
    "ax1.legend(loc=1)\n",
    "annotation_string = r\"\"\"2 fm brick, 100 GeV jet\n",
    "ch. hadrons\n",
    "$|\\eta|\\leq 2.6$, $p_\\mathrm{T}\\geq 0.2$ GeV\n",
    "\"\"\"\n",
    "ax1.annotate(annotation_string,xy=(0.5, 0.45), xycoords='axes fraction')\n",
    "ax1.set_xlabel(r\"$p_\\mathrm{T}$ [GeV]\")\n",
    "ax1.set_ylabel(r\"$\\frac{1}{N_\\mathrm{ev}}\\,\\frac{\\mathrm{d}^2 N}{2\\pi p_{\\mathrm{T}}\\mathrm{d}p_{\\mathrm{T}}\\mathrm{d}\\eta}$ [1/GeV$^2$]\")\n",
    "plt.savefig('./brick_2fm_hybrid_hadron_spectrum_charged.pdf', bbox_inches='tight')"
   ]
  },
  {
   "cell_type": "code",
   "execution_count": null,
   "metadata": {},
   "outputs": [],
   "source": [
    "# plot the 4 fm brick hybrid hadronization results\n",
    "fig, ax1 = plt.subplots()\n",
    "\n",
    "ax1.errorbar(pt_hybrid_4fm_reco, spec_final_hybrid_4fm_reco, fmt='s', xerr=dpt_hybrid_4fm_reco/2., yerr=spec_final_hybrid_4fm_err_reco, color='b', label=r\"recombination\")\n",
    "ax1.errorbar(pt_hybrid_4fm_frag, spec_final_hybrid_4fm_frag, fmt='o', xerr=dpt_hybrid_4fm_frag/2., yerr=spec_final_hybrid_4fm_err_frag, color='k', label=r\"string frag.\")\n",
    "ax1.errorbar(pt_hybrid_4fm, spec_final_hybrid_4fm, fmt='x', xerr=dpt_hybrid_4fm/2., yerr=spec_final_hybrid_4fm_err, color='g', label=r\"all hadrons\")\n",
    "\n",
    "ax1.set_yscale('log')\n",
    "ax1.legend(loc=1)\n",
    "annotation_string = r\"\"\"4 fm brick, 100 GeV jet\n",
    "ch. hadrons\n",
    "$|\\eta|\\leq 2.6$, $p_\\mathrm{T}\\geq 0.2$ GeV\n",
    "\"\"\"\n",
    "ax1.annotate(annotation_string,xy=(0.5, 0.45), xycoords='axes fraction')\n",
    "ax1.set_xlabel(r\"$p_\\mathrm{T}$ [GeV]\")\n",
    "ax1.set_ylabel(r\"$\\frac{1}{N_\\mathrm{ev}}\\,\\frac{\\mathrm{d}^2 N}{2\\pi p_{\\mathrm{T}}\\mathrm{d}p_{\\mathrm{T}}\\mathrm{d}\\eta}$ [1/GeV$^2$]\")\n",
    "plt.savefig('./brick_4fm_hybrid_hadron_spectrum_charged.pdf', bbox_inches='tight')"
   ]
  },
  {
   "cell_type": "markdown",
   "metadata": {},
   "source": [
    "In colorless hadronization there is only string fragmentation, so we will just plot *all hadrons* in this case."
   ]
  },
  {
   "cell_type": "code",
   "execution_count": null,
   "metadata": {},
   "outputs": [],
   "source": [
    "# plot the 2 fm brick colorless hadronization results\n",
    "fig, ax1 = plt.subplots()\n",
    "\n",
    "ax1.errorbar(pt_colorless_2fm, spec_colorless_2fm, fmt='s', xerr=dpt_colorless_2fm/2., yerr=spec_err_colorless_2fm, color='g', label=r\"all hadrons\")\n",
    "\n",
    "ax1.set_yscale('log')\n",
    "ax1.legend(loc=1)\n",
    "annotation_string = r\"\"\"2 fm brick, 100 GeV jet\n",
    "ch. hadrons\n",
    "$|\\eta|\\leq 2.6$, $p_\\mathrm{T}\\geq 0.2$ GeV\n",
    "\"\"\"\n",
    "ax1.annotate(annotation_string,xy=(0.5, 0.45), xycoords='axes fraction')\n",
    "ax1.set_xlabel(r\"$p_\\mathrm{T}$ [GeV]\")\n",
    "ax1.set_ylabel(r\"$\\frac{1}{N_\\mathrm{ev}}\\,\\frac{\\mathrm{d}^2 N}{2\\pi p_{\\mathrm{T}}\\mathrm{d}p_{\\mathrm{T}}\\mathrm{d}\\eta}$ [1/GeV$^2$]\")\n",
    "plt.savefig('./brick_2fm_colorless_hadron_spectrum_charged.pdf', bbox_inches='tight')"
   ]
  },
  {
   "cell_type": "markdown",
   "metadata": {},
   "source": [
    "In the next step we will compare the fraction of recombination between the two bricks of length 2 and 4 fm by taking the ratio between the recombination hadrons and all hadrons in the corresponding spectra."
   ]
  },
  {
   "cell_type": "code",
   "execution_count": null,
   "metadata": {},
   "outputs": [],
   "source": [
    "\n",
    "fraction_reco_2fm = spec_final_hybrid_2fm_reco / spec_final_hybrid_2fm\n",
    "fraction_reco_4fm = spec_final_hybrid_4fm_reco / spec_final_hybrid_4fm\n",
    "\n",
    "fraction_reco_2fm_err = ratio_error(spec_final_hybrid_2fm_reco,spec_final_hybrid_2fm_err_reco,spec_final_hybrid_2fm,spec_final_hybrid_2fm_err)\n",
    "fraction_reco_4fm_err = ratio_error(spec_final_hybrid_4fm_reco,spec_final_hybrid_4fm_err_reco,spec_final_hybrid_4fm,spec_final_hybrid_4fm_err)\n",
    "\n",
    "fig, ax1 = plt.subplots()\n",
    "\n",
    "ax1.errorbar(pt_hybrid_2fm, fraction_reco_2fm, fmt='s', xerr=dpt_hybrid_2fm/2., yerr=fraction_reco_2fm_err, color='g', label=r\"$l_{\\mathrm{brick}}=2$ fm\")\n",
    "ax1.errorbar(pt_hybrid_4fm, fraction_reco_4fm, fmt='o', xerr=dpt_hybrid_4fm/2., yerr=fraction_reco_4fm_err, color='b', label=r\"$l_{\\mathrm{brick}}=4$ fm\")\n",
    "\n",
    "ax1.legend(loc=1)\n",
    "annotation_string = r\"\"\"brick, 100 GeV jet\n",
    "ch. hadrons\n",
    "$|\\eta|\\leq 2.6$, $p_\\mathrm{T}\\geq 0.2$ GeV\n",
    "\"\"\"\n",
    "ax1.annotate(annotation_string,xy=(0.5, 0.45), xycoords='axes fraction')\n",
    "ax1.set_xlabel(r\"$p_\\mathrm{T}$ [GeV]\")\n",
    "ax1.set_ylabel(r\"fraction of recombination hadrons\")\n",
    "plt.savefig('./brick_fraction_reco_hadrons.pdf', bbox_inches='tight')\n"
   ]
  },
  {
   "cell_type": "markdown",
   "metadata": {},
   "source": [
    "Direct comparison of the 2 fm bricks in hybrid and colorless hadronization."
   ]
  },
  {
   "cell_type": "code",
   "execution_count": null,
   "metadata": {},
   "outputs": [],
   "source": [
    "fig, ax1 = plt.subplots()\n",
    "\n",
    "ax1.errorbar(pt_hybrid_2fm, spec_final_hybrid_2fm, fmt='s', xerr=dpt_hybrid_2fm/2., yerr=spec_final_hybrid_2fm_err, color='g', label=r\"hybrid hadr.\")\n",
    "ax1.errorbar(pt_colorless_2fm, spec_colorless_2fm, fmt='o', xerr=dpt_colorless_2fm/2., yerr=spec_err_colorless_2fm, color='b', label=r\"colorless hadr.\")\n",
    "\n",
    "ax1.set_yscale('log')\n",
    "ax1.legend(loc=1)\n",
    "annotation_string = r\"\"\"2 fm brick, 100 GeV jet\n",
    "ch. hadrons\n",
    "$|\\eta|\\leq 2.6$, $p_\\mathrm{T}\\geq 0.2$ GeV\n",
    "\"\"\"\n",
    "ax1.annotate(annotation_string,xy=(0.5, 0.45), xycoords='axes fraction')\n",
    "ax1.set_xlabel(r\"$p_\\mathrm{T}$ [GeV]\")\n",
    "ax1.set_ylabel(r\"$\\frac{1}{N_\\mathrm{ev}}\\,\\frac{\\mathrm{d}^2 N}{2\\pi p_{\\mathrm{T}}\\mathrm{d}p_{\\mathrm{T}}\\mathrm{d}\\eta}$ [1/GeV$^2$]\")\n",
    "plt.savefig('./brick_hybrid_colorless_comparison.pdf', bbox_inches='tight')"
   ]
  },
  {
   "cell_type": "markdown",
   "metadata": {},
   "source": [
    "Compute the $p / \\pi$ ratio in the simulation with the 2 fm brick for hybrid hadronization and colorless hadronization."
   ]
  },
  {
   "cell_type": "code",
   "execution_count": null,
   "metadata": {},
   "outputs": [],
   "source": [
    "# hybrid hadronization\n",
    "data_hybrid_pions = spxJ.Jetscape(PATH_HADRONIZATION_DATA_HYBRID_2FM)\n",
    "data_hybrid_2fm_pions = data_hybrid_pions.remove_particle_species(22).charged_particles().pt_cut(pt_cut).pseudorapidity_cut(pseudorapidity_range).particle_status([11,12,21,22]).particle_species([211,-211]).particle_objects_list()\n",
    "\n",
    "data_hybrid_pions_neg = spxJ.Jetscape(PATH_HADRONIZATION_DATA_HYBRID_2FM)\n",
    "data_hybrid_2fm_pions_neg = data_hybrid_pions_neg.remove_particle_species(22).charged_particles().pt_cut(pt_cut).pseudorapidity_cut(pseudorapidity_range).particle_status([-11,-12,-21,-22]).particle_species([211,-211]).particle_objects_list()\n",
    "\n",
    "data_hybrid_protons = spxJ.Jetscape(PATH_HADRONIZATION_DATA_HYBRID_2FM)\n",
    "data_hybrid_2fm_protons = data_hybrid_protons.remove_particle_species(22).charged_particles().pt_cut(pt_cut).pseudorapidity_cut(pseudorapidity_range).particle_status([11,12,21,22]).particle_species([2212,-2212]).particle_objects_list()\n",
    "\n",
    "data_hybrid_protons_neg = spxJ.Jetscape(PATH_HADRONIZATION_DATA_HYBRID_2FM)\n",
    "data_hybrid_2fm_protons_neg = data_hybrid_protons_neg.remove_particle_species(22).charged_particles().pt_cut(pt_cut).pseudorapidity_cut(pseudorapidity_range).particle_status([-11,-12,-21,-22]).particle_species([2212,-2212]).particle_objects_list()\n",
    "\n",
    "pt_hybrid_2fm_pions, dpt_hybrid_2fm_pions, spec_hybrid_2fm_pions, spec_err_hybrid_2fm_pions = create_spectrum(data_hybrid_2fm_pions,charged_hadron_pt,N_events,deta)\n",
    "pt_hybrid_2fm_pions_neg, dpt_hybrid_2fm_pions_neg, spec_hybrid_2fm_pions_neg, spec_err_hybrid_2fm_pions_neg = create_spectrum(data_hybrid_2fm_pions_neg,charged_hadron_pt,N_events,deta)\n",
    "\n",
    "pt_hybrid_2fm_protons, dpt_hybrid_2fm_protons, spec_hybrid_2fm_protons, spec_err_hybrid_2fm_protons = create_spectrum(data_hybrid_2fm_protons,charged_hadron_pt,N_events,deta)\n",
    "pt_hybrid_2fm_protons_neg, dpt_hybrid_2fm_protons_neg, spec_hybrid_2fm_protons_neg, spec_err_hybrid_2fm_protons_neg = create_spectrum(data_hybrid_2fm_protons_neg,charged_hadron_pt,N_events,deta)\n",
    "\n",
    "#subtract the spectrum of negative hadrons from the real ones\n",
    "spec_final_hybrid_2fm_pions = spec_hybrid_2fm_pions - spec_hybrid_2fm_pions_neg\n",
    "spec_final_hybrid_2fm_pions_err = compute_error_of_subtracted_spectrum(spec_err_hybrid_2fm_pions,spec_err_hybrid_2fm_pions_neg)\n",
    "\n",
    "spec_final_hybrid_2fm_protons = spec_hybrid_2fm_protons - spec_hybrid_2fm_protons_neg\n",
    "spec_final_hybrid_2fm_protons_err = compute_error_of_subtracted_spectrum(spec_err_hybrid_2fm_protons,spec_err_hybrid_2fm_protons_neg)\n",
    "\n",
    "p_to_pi_hybrid = spec_final_hybrid_2fm_protons / spec_final_hybrid_2fm_pions\n",
    "p_to_pi_hybrid_err = ratio_error(spec_final_hybrid_2fm_protons,spec_final_hybrid_2fm_protons_err,spec_final_hybrid_2fm_pions,spec_final_hybrid_2fm_pions_err)\n",
    "\n",
    "# colorless hadronization\n",
    "data_colorless_pions = spxJ.Jetscape(PATH_HADRONIZATION_DATA_COLORLESS_2FM)\n",
    "data_colorless_2fm_pions = data_colorless_pions.remove_particle_species(22).charged_particles().pt_cut(pt_cut).pseudorapidity_cut(pseudorapidity_range).particle_species([211,-211]).particle_objects_list()\n",
    "\n",
    "data_colorless_protons = spxJ.Jetscape(PATH_HADRONIZATION_DATA_COLORLESS_2FM)\n",
    "data_colorless_2fm_protons = data_colorless_protons.remove_particle_species(22).charged_particles().pt_cut(pt_cut).pseudorapidity_cut(pseudorapidity_range).particle_species([2212,-2212]).particle_objects_list()\n",
    "\n",
    "pt_colorless_2fm_pions, dpt_colorless_2fm_pions, spec_colorless_2fm_pions, spec_err_colorless_2fm_pions = create_spectrum(data_colorless_2fm_pions,charged_hadron_pt,N_events,deta)\n",
    "\n",
    "pt_colorless_2fm_protons, dpt_colorless_2fm_protons, spec_colorless_2fm_protons, spec_err_colorless_2fm_protons = create_spectrum(data_colorless_2fm_protons,charged_hadron_pt,N_events,deta)\n",
    "\n",
    "p_to_pi_colorless = spec_colorless_2fm_protons / spec_colorless_2fm_pions\n",
    "p_to_pi_colorless_err = ratio_error(spec_colorless_2fm_protons,spec_err_colorless_2fm_protons,spec_colorless_2fm_pions,spec_err_colorless_2fm_pions)"
   ]
  },
  {
   "cell_type": "code",
   "execution_count": null,
   "metadata": {},
   "outputs": [],
   "source": [
    "fig, ax1 = plt.subplots()\n",
    "\n",
    "ax1.errorbar(pt_hybrid_2fm_pions, p_to_pi_hybrid, fmt='s', xerr=dpt_hybrid_2fm_pions/2., yerr=p_to_pi_hybrid_err, color='g', label=r\"hybrid hadr.\")\n",
    "ax1.errorbar(pt_colorless_2fm_pions, p_to_pi_colorless, fmt='o', xerr=dpt_colorless_2fm_pions/2., yerr=p_to_pi_colorless_err, color='b', label=r\"colorless hadr.\")\n",
    "\n",
    "ax1.legend(loc=1)\n",
    "annotation_string = r\"\"\"2 fm brick, 100 GeV jet\n",
    "$|\\eta|\\leq 2.6$, $p_\\mathrm{T}\\geq 0.2$ GeV\n",
    "\"\"\"\n",
    "ax1.annotate(annotation_string,xy=(0.05, 0.8), xycoords='axes fraction')\n",
    "ax1.set_xlabel(r\"$p_\\mathrm{T}$ [GeV]\")\n",
    "ax1.set_ylabel(r\"$p/\\pi$\")\n",
    "plt.savefig('./brick_p_pi_ratio.pdf', bbox_inches='tight')\n"
   ]
  },
  {
   "cell_type": "markdown",
   "metadata": {},
   "source": [
    "Compute $R_{\\mathrm{brick},\\mathrm{vacuum}}$, which is defined as the ratio of the brick spectrum with the vacuum baseline."
   ]
  },
  {
   "cell_type": "code",
   "execution_count": null,
   "metadata": {},
   "outputs": [],
   "source": [
    "# load the vacuum baseline data and create spectra\n",
    "simulation4 = spxJ.Jetscape(PATH_HADRONIZATION_DATA_HYBRID_BASELINE)\n",
    "data_hybrid_baseline = simulation4.remove_particle_species(22).charged_particles().pt_cut(pt_cut).pseudorapidity_cut(pseudorapidity_range).particle_status([11,12,21,22]).particle_objects_list()\n",
    "\n",
    "simulation4_neg = spxJ.Jetscape(PATH_HADRONIZATION_DATA_HYBRID_BASELINE)\n",
    "data_hybrid_baseline_neg = simulation4_neg.remove_particle_species(22).charged_particles().pt_cut(pt_cut).pseudorapidity_cut(pseudorapidity_range).particle_status([-11,-12,-21,-22]).particle_objects_list()\n",
    "\n",
    "pt_hybrid_2fm_baseline, dpt_hybrid_2fm_baseline, spec_hybrid_2fm_baseline, spec_err_hybrid_2fm_baseline = create_spectrum(data_hybrid_baseline,charged_hadron_pt,N_events,deta)\n",
    "pt_hybrid_2fm_baseline_neg, dpt_hybrid_2fm_baseline_neg, spec_hybrid_2fm_baseline_neg, spec_err_hybrid_2fm_baseline_neg = create_spectrum(data_hybrid_baseline_neg,charged_hadron_pt,N_events,deta)\n",
    "\n",
    "#subtract the spectrum of negative hadrons from the real ones\n",
    "spec_final_hybrid_2fm_baseline = spec_hybrid_2fm_baseline - spec_hybrid_2fm_baseline_neg\n",
    "spec_final_hybrid_2fm_baseline_err = compute_error_of_subtracted_spectrum(spec_err_hybrid_2fm_baseline,spec_err_hybrid_2fm_baseline_neg)\n",
    "\n",
    "\n",
    "simulation5 = spxJ.Jetscape(PATH_HADRONIZATION_DATA_COLORLESS_BASELINE)\n",
    "data_colorless_baseline = simulation5.remove_particle_species(22).charged_particles().pt_cut(pt_cut).pseudorapidity_cut(pseudorapidity_range).particle_objects_list()\n",
    "\n",
    "pt_colorless_2fm_baseline, dpt_colorless_2fm_baseline, spec_colorless_2fm_baseline, spec_err_colorless_2fm_baseline = create_spectrum(data_colorless_baseline,charged_hadron_pt,N_events,deta)\n",
    "\n",
    "R_bv_hybrid = spec_final_hybrid_2fm / spec_final_hybrid_2fm_baseline\n",
    "R_bv_hybrid_err = ratio_error(spec_final_hybrid_2fm,spec_final_hybrid_2fm_err,spec_final_hybrid_2fm_baseline,spec_final_hybrid_2fm_baseline_err)\n",
    "\n",
    "R_bv_colorless = spec_colorless_2fm / spec_colorless_2fm_baseline\n",
    "R_bv_colorless_err = ratio_error(spec_colorless_2fm,spec_err_colorless_2fm,spec_colorless_2fm_baseline,spec_err_colorless_2fm_baseline)"
   ]
  },
  {
   "cell_type": "code",
   "execution_count": null,
   "metadata": {},
   "outputs": [],
   "source": [
    "fig, ax1 = plt.subplots()\n",
    "\n",
    "ax1.errorbar(pt_hybrid_2fm_baseline, R_bv_hybrid, fmt='s', xerr=dpt_hybrid_2fm_baseline/2., yerr=R_bv_hybrid_err, color='g', label=r\"hybrid hadr.\")\n",
    "ax1.errorbar(pt_colorless_2fm_baseline, R_bv_colorless, fmt='o', xerr=dpt_colorless_2fm_baseline/2., yerr=R_bv_colorless_err, color='b', label=r\"colorless hadr.\")\n",
    "\n",
    "# Add the horizontal dashed line at y = 1\n",
    "plt.axhline(y=1, color='black', linestyle='--')\n",
    "\n",
    "ax1.legend(loc=1)\n",
    "annotation_string = r\"\"\"2 fm brick, 100 GeV jet\n",
    "$|\\eta|\\leq 2.6$, $p_\\mathrm{T}\\geq 0.2$ GeV\n",
    "\"\"\"\n",
    "ax1.annotate(annotation_string,xy=(0.5, 0.45), xycoords='axes fraction')\n",
    "ax1.set_xlabel(r\"$p_\\mathrm{T}$ [GeV]\")\n",
    "ax1.set_ylabel(r\"$R_{\\mathrm{brick},\\mathrm{vacuum}}$\")\n",
    "plt.savefig('./brick_R_brick_vacuum_ratio.pdf', bbox_inches='tight')"
   ]
  },
  {
   "cell_type": "markdown",
   "metadata": {},
   "source": [
    "## Homework 1\n",
    "\n",
    "Run a jet finding algorithm on your favourite brick data set using the anti $k_{\\mathrm{T}}$-algorithm and plot a jet spectrum. You can use most of the code from the $e^+e^-$ jupyter notebook. If you don't give a `jet_algorithm` parameter to the `JetAnalysis` class of the *sparkx* package, it will choose the anti $k_{\\mathrm{T}}$-algorithm as a default."
   ]
  },
  {
   "cell_type": "markdown",
   "metadata": {},
   "source": [
    "## Homework 2\n",
    "\n",
    "Play around with some parameters, e.g., the brick length or temperature, or change the energy of the jet. How do the spectra look like for a 20 GeV jet? For this exercise you have to modify the xml files or create new ones and then run some new simulations."
   ]
  }
 ],
 "metadata": {
  "kernelspec": {
   "display_name": "Python 3",
   "language": "python",
   "name": "python3"
  },
  "language_info": {
   "codemirror_mode": {
    "name": "ipython",
    "version": 3
   },
   "file_extension": ".py",
   "mimetype": "text/x-python",
   "name": "python",
   "nbconvert_exporter": "python",
   "pygments_lexer": "ipython3",
   "version": "3.10.7"
  },
  "orig_nbformat": 4
 },
 "nbformat": 4,
 "nbformat_minor": 2
}
